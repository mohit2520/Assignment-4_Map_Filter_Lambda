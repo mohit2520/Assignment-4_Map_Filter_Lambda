{
 "cells": [
  {
   "cell_type": "code",
   "execution_count": 1,
   "id": "5561adeb",
   "metadata": {},
   "outputs": [
    {
     "name": "stdout",
     "output_type": "stream",
     "text": [
      "enter any number :10\n",
      "The sample output is  35\n"
     ]
    }
   ],
   "source": [
    "#Write a Python program to create a lambda function that adds 25 to a given number passed in as an argument.\n",
    "#sample input: 10\n",
    "#sample output: 35\n",
    "\n",
    "n=int(input(\"enter any number :\"))\n",
    "s=lambda x:x+25 \n",
    "print(\"The sample output is \",s(n))"
   ]
  },
  {
   "cell_type": "code",
   "execution_count": null,
   "id": "4b7e20ba",
   "metadata": {},
   "outputs": [],
   "source": []
  }
 ],
 "metadata": {
  "kernelspec": {
   "display_name": "Python 3 (ipykernel)",
   "language": "python",
   "name": "python3"
  },
  "language_info": {
   "codemirror_mode": {
    "name": "ipython",
    "version": 3
   },
   "file_extension": ".py",
   "mimetype": "text/x-python",
   "name": "python",
   "nbconvert_exporter": "python",
   "pygments_lexer": "ipython3",
   "version": "3.9.12"
  }
 },
 "nbformat": 4,
 "nbformat_minor": 5
}
