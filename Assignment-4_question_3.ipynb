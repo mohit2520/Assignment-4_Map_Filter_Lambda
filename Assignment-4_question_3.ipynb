{
 "cells": [
  {
   "cell_type": "code",
   "execution_count": 1,
   "id": "72d48de4",
   "metadata": {},
   "outputs": [
    {
     "name": "stdout",
     "output_type": "stream",
     "text": [
      "Enter the list : \n",
      "4 5 2 9\n",
      "The sample list is  [4, 5, 2, 9]\n",
      "The Square of list is  [16, 25, 4, 81]\n"
     ]
    }
   ],
   "source": [
    "#Write a Python program to square the elements of a list using map() function.\n",
    "#Sample List: [4, 5, 2, 9]\n",
    "#Square the elements of the list:\n",
    "#[16, 25, 4, 81]\n",
    "\n",
    "print(\"Enter the list : \")\n",
    "a=list(map(int ,input().split()))\n",
    "print(\"The sample list is \",a)\n",
    "l=list(map(lambda a : a*a , a))\n",
    "print(\"The Square of list is \",l)"
   ]
  },
  {
   "cell_type": "code",
   "execution_count": null,
   "id": "a229f4c8",
   "metadata": {},
   "outputs": [],
   "source": []
  }
 ],
 "metadata": {
  "kernelspec": {
   "display_name": "Python 3 (ipykernel)",
   "language": "python",
   "name": "python3"
  },
  "language_info": {
   "codemirror_mode": {
    "name": "ipython",
    "version": 3
   },
   "file_extension": ".py",
   "mimetype": "text/x-python",
   "name": "python",
   "nbconvert_exporter": "python",
   "pygments_lexer": "ipython3",
   "version": "3.9.12"
  }
 },
 "nbformat": 4,
 "nbformat_minor": 5
}
